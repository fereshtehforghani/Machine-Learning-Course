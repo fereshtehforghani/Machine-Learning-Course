{
 "cells": [
  {
   "cell_type": "markdown",
   "metadata": {},
   "source": [
    "<div dir='rtl'>\n",
    "    <h1>\n",
    "     تمرین عملی پنجم\n",
    "    </h1>\n",
    "</div>\n",
    "    "
   ]
  },
  {
   "cell_type": "code",
   "execution_count": 49,
   "metadata": {},
   "outputs": [],
   "source": [
    "from sklearn import datasets\n",
    "import numpy as np\n",
    "import matplotlib.pyplot as plt\n",
    "import pandas as pd\n",
    "import warnings\n",
    "warnings.filterwarnings('ignore')"
   ]
  },
  {
   "cell_type": "code",
   "execution_count": 2,
   "metadata": {},
   "outputs": [
    {
     "name": "stdout",
     "output_type": "stream",
     "text": [
      "Number of features :  4 \n",
      "Number of classes :  3 \n",
      "Number of data : 150\n"
     ]
    }
   ],
   "source": [
    "iris = datasets.load_iris()\n",
    "x = iris.data\n",
    "y = iris.target\n",
    "print(\"Number of features : \", len(x[0]),\"\\nNumber of classes : \", len(set(y)), \"\\nNumber of data :\", len(y))"
   ]
  },
  {
   "cell_type": "markdown",
   "metadata": {},
   "source": [
    "<div dir='rtl'>\n",
    "<h2>Perceptron</h2>\n",
    "    داده‌ها با کلاس ۱ و ۰ را در نظر می‌گیریم. همانطور که می‌بینیم داده‌ها خطی جدایی پذیرند و در iteration دوم تعداد نقاط misclassified به صفر رسیده است. و دقت روی داده تست نیز ۱۰۰ درصد است!\n",
    "</div>"
   ]
  },
  {
   "cell_type": "code",
   "execution_count": 7,
   "metadata": {},
   "outputs": [],
   "source": [
    "def find_train_test(x, y):\n",
    "    idx = np.random.permutation(x.shape[0])\n",
    "    train_idx, test_idx = idx[:int(0.8 * x.shape[0])], idx[int(0.8 * x.shape[0]):]\n",
    "    x_train, x_test = x[train_idx,:], x[test_idx,:]\n",
    "    y_train, y_test = y[train_idx], y[test_idx]\n",
    "    return x_train, x_test, y_train, y_test\n",
    "\n",
    "def normalize_data(x):\n",
    "    x = x - x.mean(axis=0)\n",
    "    return x / np.abs(x).max(axis=0)\n"
   ]
  },
  {
   "cell_type": "code",
   "execution_count": 8,
   "metadata": {},
   "outputs": [],
   "source": [
    "y_perceptron = y[0:100]\n",
    "x_perceptron = x[0:100]\n",
    "x_train_p, x_test_p, y_train_p, y_test_p = find_train_test(x_perceptron, y_perceptron)"
   ]
  },
  {
   "cell_type": "code",
   "execution_count": 11,
   "metadata": {},
   "outputs": [
    {
     "data": {
      "image/png": "[encoded data removed]",
      "text/plain": [
       "<Figure size 432x288 with 1 Axes>"
      ]
     },
     "metadata": {
      "needs_background": "light"
     },
     "output_type": "display_data"
    },
    {
     "name": "stdout",
     "output_type": "stream",
     "text": [
      "[ 0.8  5.1 -7.1 -2.6]\n"
     ]
    }
   ],
   "source": [
    "def perceptron_predict(x, w):\n",
    "    if np.dot(x, w) >= 0:\n",
    "        return 1\n",
    "    return -1\n",
    "\n",
    "def perceptron_train(x, y, max_iter=100):\n",
    "    w = np.zeros(x.shape[1])\n",
    "    miss_classified = []\n",
    "    for j in range(max_iter):\n",
    "        count = 0\n",
    "        for i in range(len(x)):\n",
    "            predict = perceptron_predict(x[i], w)\n",
    "            if y[i] == predict:\n",
    "                continue\n",
    "            w += x[i] * y[i]\n",
    "            count += 1\n",
    "        miss_classified.append(count)\n",
    "    plt.plot(range(1, len(miss_classified) + 1), miss_classified, marker='o')\n",
    "    plt.xlabel('Epoch')\n",
    "    plt.ylabel('Misclassified')\n",
    "    plt.show()\n",
    "    return w\n",
    "    \n",
    "    \n",
    "y_train_prime = []   \n",
    "for i in y_train_p:\n",
    "    if i == 0:\n",
    "        y_train_prime.append(1)\n",
    "    else:\n",
    "        y_train_prime.append(-1)\n",
    "w = perceptron_train(x_train_p, y_train_prime, 10)"
   ]
  },
  {
   "cell_type": "code",
   "execution_count": 12,
   "metadata": {},
   "outputs": [
    {
     "name": "stdout",
     "output_type": "stream",
     "text": [
      "Accuracy on test data: 1.0\n"
     ]
    }
   ],
   "source": [
    "y_test_prime = []   \n",
    "for i in y_test_p:\n",
    "    if i == 0:\n",
    "        y_test_prime.append(1)\n",
    "    else:\n",
    "        y_test_prime.append(-1)\n",
    "predict = []\n",
    "true = 0\n",
    "for i in range(len(x_test_p)):\n",
    "    if perceptron_predict(x_test_p[i], w) == y_test_prime[i]:\n",
    "        true += 1\n",
    "print(\"Accuracy on test data:\", true / len(x_test_p))"
   ]
  },
  {
   "cell_type": "markdown",
   "metadata": {},
   "source": [
    "<div dir='rtl'>\n",
    "<h2> Logistic Regression</h2>\n",
    "    از آنجایی که چند کلاس داریم از روش one vs all استفاده کردم. برای اینکار ابتدا y را به شکل one-hot تغییر دادم. حال به ازای هرکلاس یک دسته‌بندی دودویی انجام می‌دهیم.\n",
    "</div>"
   ]
  },
  {
   "cell_type": "code",
   "execution_count": 21,
   "metadata": {},
   "outputs": [
    {
     "name": "stdout",
     "output_type": "stream",
     "text": [
      "test train spilit : \n",
      " train:  120 \n",
      " test:  30\n"
     ]
    }
   ],
   "source": [
    "x = normalize_data(x)\n",
    "y_prime = np.zeros((y.size, y.max()+1))\n",
    "y_prime[np.arange(y.size),y] = 1\n",
    "x_train, x_test, y_train, y_test = find_train_test(x, y_prime)\n",
    "print(\"test train spilit : \\n train: \", x_train.shape[0], \"\\n test: \", x_test.shape[0])"
   ]
  },
  {
   "cell_type": "code",
   "execution_count": 91,
   "metadata": {},
   "outputs": [
    {
     "data": {
      "image/png": "[encoded data removed]",
      "text/plain": [
       "<Figure size 432x288 with 1 Axes>"
      ]
     },
     "metadata": {
      "needs_background": "light"
     },
     "output_type": "display_data"
    }
   ],
   "source": [
    "def sigmoid(a):\n",
    "    return 1/(1+ np.exp(-1 * a))\n",
    "\n",
    "\n",
    "def cost_function(x, y, w):\n",
    "    t = sigmoid(x.dot(w))\n",
    "    cost = 0\n",
    "    for i in range(len(x)):\n",
    "        for j in range(3):\n",
    "            cost +=  y[i, j] * np.log(t[i, j])\n",
    "    return (-1/len(x)) * cost\n",
    "\n",
    "\n",
    "def train(x, y, max_iter=100, alpha=0.1):\n",
    "    n = len(y)\n",
    "    w = np.zeros([x.shape[1], y.shape[1]])\n",
    "    cost = []\n",
    "    for i in range(max_iter):\n",
    "        for j in range(len(y[0])):\n",
    "            h = sigmoid(np.dot(x, w[:,j]))\n",
    "            for k in range(0, w.shape[0]):\n",
    "                w[k, j] -= (alpha/n) * np.sum((h - y[:, j]) * x[:, k])\n",
    "        cost.append(cost_function(x, y, w))\n",
    "    plt.plot([i for i in range(max_iter)], cost)\n",
    "    plt.xlabel('Epoch')\n",
    "    plt.ylabel('Loss')\n",
    "    plt.show()\n",
    "    return w, cost\n",
    "\n",
    "\n",
    "w, cost = train(x_train, y_train)"
   ]
  },
  {
   "cell_type": "code",
   "execution_count": 62,
   "metadata": {},
   "outputs": [
    {
     "name": "stdout",
     "output_type": "stream",
     "text": [
      "Confusion matrix for test set: \n"
     ]
    },
    {
     "data": {
      "text/html": [
       "<div>\n",
       "<style scoped>\n",
       "    .dataframe tbody tr th:only-of-type {\n",
       "        vertical-align: middle;\n",
       "    }\n",
       "\n",
       "    .dataframe tbody tr th {\n",
       "        vertical-align: top;\n",
       "    }\n",
       "\n",
       "    .dataframe thead th {\n",
       "        text-align: right;\n",
       "    }\n",
       "</style>\n",
       "<table border=\"1\" class=\"dataframe\">\n",
       "  <thead>\n",
       "    <tr style=\"text-align: right;\">\n",
       "      <th></th>\n",
       "      <th>0_label</th>\n",
       "      <th>1_label</th>\n",
       "      <th>2_label</th>\n",
       "    </tr>\n",
       "  </thead>\n",
       "  <tbody>\n",
       "    <tr>\n",
       "      <th>0</th>\n",
       "      <td>7.0</td>\n",
       "      <td>0.0</td>\n",
       "      <td>0.0</td>\n",
       "    </tr>\n",
       "    <tr>\n",
       "      <th>1</th>\n",
       "      <td>0.0</td>\n",
       "      <td>3.0</td>\n",
       "      <td>0.0</td>\n",
       "    </tr>\n",
       "    <tr>\n",
       "      <th>2</th>\n",
       "      <td>0.0</td>\n",
       "      <td>9.0</td>\n",
       "      <td>11.0</td>\n",
       "    </tr>\n",
       "  </tbody>\n",
       "</table>\n",
       "</div>"
      ],
      "text/plain": [
       "   0_label  1_label  2_label\n",
       "0      7.0      0.0      0.0\n",
       "1      0.0      3.0      0.0\n",
       "2      0.0      9.0     11.0"
      ]
     },
     "execution_count": 62,
     "metadata": {},
     "output_type": "execute_result"
    }
   ],
   "source": [
    "def predict(x, w):\n",
    "    pred = []\n",
    "    for i in range(3):\n",
    "        h = sigmoid(np.dot(x, w[:,i]))\n",
    "        pred.append(h)\n",
    "    pred = np.array(pred).transpose()\n",
    "    res = []\n",
    "    for p in pred:\n",
    "        x = [0, 0, 0]\n",
    "        x[np.argmax([i for i in p])] += 1\n",
    "        res.append(x)\n",
    "    return res\n",
    "    \n",
    "def accuracy(y_test, y_predict):\n",
    "    acc = np.zeros((3, 3))\n",
    "    for i in range(len(y_test)):\n",
    "        main = np.argmax(y_test[i])\n",
    "        pred = np.argmax(y_predict[i])\n",
    "        acc[main][pred] += 1\n",
    "    return acc\n",
    "\n",
    "y_predict = predict(x_test, w) \n",
    "confusion_matrix = accuracy(y_test, y_predict)\n",
    "\n",
    "df={}\n",
    "df['0_label']= confusion_matrix[0]\n",
    "df['1_label']= confusion_matrix[1]\n",
    "df['2_label']= confusion_matrix[2]\n",
    "print(\"Confusion matrix for test set: \")\n",
    "pd.DataFrame(df)"
   ]
  },
  {
   "cell_type": "code",
   "execution_count": 90,
   "metadata": {},
   "outputs": [
    {
     "name": "stdout",
     "output_type": "stream",
     "text": [
      "Confusion matrix for test set (l2 = 0.1): \n",
      "   0_label  1_label  2_label\n",
      "0      7.0      0.0      0.0\n",
      "1      0.0      6.0      1.0\n",
      "2      0.0      6.0     10.0\n",
      "Confusion matrix for test set(l2 = 1): \n",
      "   0_label  1_label  2_label\n",
      "0      7.0      3.0      0.0\n",
      "1      0.0      3.0      1.0\n",
      "2      0.0      6.0     10.0\n",
      "Confusion matrix for test set (l2 = 10): \n",
      "   0_label  1_label  2_label\n",
      "0      7.0      0.0      0.0\n",
      "1      0.0      6.0      1.0\n",
      "2      0.0      6.0     10.0\n"
     ]
    },
    {
     "data": {
      "image/png": "[encoded data removed]",
      "text/plain": [
       "<Figure size 432x288 with 1 Axes>"
      ]
     },
     "metadata": {
      "needs_background": "light"
     },
     "output_type": "display_data"
    }
   ],
   "source": [
    "def train_2(x, y, l2, max_iter, alpha=0.1):\n",
    "    n = len(y)\n",
    "    w = np.zeros([x.shape[1], y.shape[1]])\n",
    "    cost = []\n",
    "    for i in range(max_iter):\n",
    "        for j in range(len(y[0])):\n",
    "            h = sigmoid(np.dot(x, w[:,j]))\n",
    "            for k in range(w.shape[0]):\n",
    "                w[k, j] -= (alpha / n) * (np.sum((h - y[:, j]) * x[:, k]) + l2 * np.linalg.norm(w[:, j]))\n",
    "        cost.append(cost_function(x, y, w))\n",
    "    return w, cost\n",
    "\n",
    "max_iter = 2000\n",
    "w_2, cost_2 = train_2(x_train, y_train, 0.1, max_iter)\n",
    "y_predict_2 = predict(x_test, w_2)    \n",
    "confusion_matrix_2 = accuracy(y_test, y_predict_2)\n",
    "\n",
    "df_2={}\n",
    "df_2['0_label']= confusion_matrix_2[0]\n",
    "df_2['1_label']= confusion_matrix_2[1]\n",
    "df_2['2_label']= confusion_matrix_2[2]\n",
    "print(\"Confusion matrix for test set (l2 = 0.1): \")\n",
    "print(pd.DataFrame(df_2))\n",
    "\n",
    "w_3, cost_3 = train_2(x_train, y_train, 1, max_iter)\n",
    "y_predict_3 = predict(x_test, w_3)    \n",
    "confusion_matrix_3 = accuracy(y_test, y_predict_3)\n",
    "\n",
    "df_3={}\n",
    "df_3['0_label']= confusion_matrix_3[0]\n",
    "df_3['1_label']= confusion_matrix_3[1]\n",
    "df_3['2_label']= confusion_matrix_3[2]\n",
    "print(\"Confusion matrix for test set(l2 = 1): \")\n",
    "print(pd.DataFrame(df_3))\n",
    "\n",
    "w_4, cost_4 = train_2(x_train, y_train, 10, max_iter)\n",
    "y_predict_4 = predict(x_test, w_4)    \n",
    "confusion_matrix_4 = accuracy(y_test, y_predict_4)\n",
    "\n",
    "df_4={}\n",
    "df_4['0_label']= confusion_matrix_2[0]\n",
    "df_4['1_label']= confusion_matrix_2[1]\n",
    "df_4['2_label']= confusion_matrix_2[2]\n",
    "print(\"Confusion matrix for test set (l2 = 10): \")\n",
    "print(pd.DataFrame(df_4))\n",
    "plt.plot([i for i in range(max_iter)], cost_2, label=\"0.1\")\n",
    "plt.plot([i for i in range(max_iter)], cost_3, label=\"1\")\n",
    "plt.plot([i for i in range(max_iter)], cost_4, label=\"10\")\n",
    "plt.xlabel('Epoch')\n",
    "plt.ylabel('Loss')\n",
    "plt.legend()\n",
    "plt.show()"
   ]
  },
  {
   "cell_type": "markdown",
   "metadata": {},
   "source": [
    "<div dir='rtl'>\n",
    "   دیدیم که در قسمت اول که regulaizer نداشتیم ۹ داده‌ی دسته‌ی ۱ به اشتباه دسته ۲ تلقی شده بودند. حال با گذاشتن l2 norm در گرادیان می‌بینیم که تعداد کل misclassified ها از 9 به 7 کاهمش میابد ( در l2 = 0.1 , l2= 10)\n",
    "    <br>\n",
    "    همانطور که در نمودار ها می‌بینیم با قرار دادن l2 = 10 از جایی به بعد loss رو به افزایش خواهد بود و در نهایت عملکرد آن مانند l2 = 0.1 خواهد بود. به طور کلی عملکرد l2 = 0.1 و l2 = 10 بهتر از بقیه بود زیرا تعداد misclassified ها در آن‌ها کمتر بود. حال چون loss در l2 = 0.1 کاهشی است پس l2 = 0.1 می‌توان گفت بهترین performance را داشته است.\n",
    "    <br>\n",
    "    البته دقت کنید که تعداد iteration ها در این حالت بیشتر شده است. زیرا l2 norm باعث کاهش سرعت convergence شده است.\n",
    "</div>"
   ]
  },
  {
   "cell_type": "code",
   "execution_count": null,
   "metadata": {},
   "outputs": [],
   "source": []
  }
 ],
 "metadata": {
  "kernelspec": {
   "display_name": "Python 3",
   "language": "python",
   "name": "python3"
  },
  "language_info": {
   "codemirror_mode": {
    "name": "ipython",
    "version": 3
   },
   "file_extension": ".py",
   "mimetype": "text/x-python",
   "name": "python",
   "nbconvert_exporter": "python",
   "pygments_lexer": "ipython3",
   "version": "3.8.4rc1"
  }
 },
 "nbformat": 4,
 "nbformat_minor": 4
}

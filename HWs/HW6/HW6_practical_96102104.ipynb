{
  "nbformat": 4,
  "nbformat_minor": 0,
  "metadata": {
    "kernelspec": {
      "display_name": "Python 3",
      "language": "python",
      "name": "python3"
    },
    "language_info": {
      "codemirror_mode": {
        "name": "ipython",
        "version": 3
      },
      "file_extension": ".py",
      "mimetype": "text/x-python",
      "name": "python",
      "nbconvert_exporter": "python",
      "pygments_lexer": "ipython3",
      "version": "3.8.4rc1"
    },
    "colab": {
      "name": "practical_96102104.ipynb",
      "provenance": [],
      "collapsed_sections": []
    }
  },
  "cells": [
    {
      "cell_type": "markdown",
      "metadata": {
        "id": "_VqghLsR18Ii"
      },
      "source": [
        "<div dir='rtl'>\n",
        "<h1>پیاده‌سازی soft margin SVM</h1>\n",
        "ابتدا داده‌ها را خوانده و یکی از آن‌ها را نمایش می‌دهیم.\n",
        "</div>"
      ]
    },
    {
      "cell_type": "code",
      "metadata": {
        "colab": {
          "base_uri": "https://localhost:8080/",
          "height": 211
        },
        "id": "AsFyrDf0TSvm",
        "outputId": "25d1505d-7e39-468d-a56d-f4db8accc46d"
      },
      "source": [
        "from sklearn import datasets\n",
        "import numpy as np\n",
        "import matplotlib.pyplot as plt\n",
        "import cvxopt\n",
        "import cvxopt.solvers\n",
        "from sklearn.model_selection import KFold\n",
        "cvxopt.solvers.options['show_progress'] = False\n",
        "\n",
        "digits = datasets.load_digits()\n",
        "plt.figure(1, figsize=(3, 3))\n",
        "plt.imshow(digits.images[-1], cmap=plt.cm.gray_r, interpolation='nearest')\n",
        "plt.show()"
      ],
      "execution_count": 1,
      "outputs": [
        {
          "output_type": "display_data",
          "data": {
            "image/png": "[encoded data removed]",
            "text/plain": [
              "<Figure size 216x216 with 1 Axes>"
            ]
          },
          "metadata": {
            "tags": [],
            "needs_background": "light"
          }
        }
      ]
    },
    {
      "cell_type": "markdown",
      "metadata": {
        "id": "ZsH3HajI2PCH"
      },
      "source": [
        "<div dir='rtl'>\n",
        "سپس برای درک بهتر داده‌ها shape آنها و شکل ماتریسی آن‌ها را چاپ کردم.\n",
        "</div>"
      ]
    },
    {
      "cell_type": "code",
      "metadata": {
        "colab": {
          "base_uri": "https://localhost:8080/",
          "height": 435
        },
        "id": "PG2ta3O1TSvp",
        "outputId": "4b99714a-39c2-45ad-bc02-7f3c91e2dd5f"
      },
      "source": [
        "print(digits.images.shape)\n",
        "print(digits.images[1])\n",
        "print(digits.target[1])\n",
        "plt.imshow(digits.images[1], cmap=plt.cm.gray_r, interpolation='nearest')\n",
        "plt.show()"
      ],
      "execution_count": 2,
      "outputs": [
        {
          "output_type": "stream",
          "text": [
            "(1797, 8, 8)\n",
            "[[ 0.  0.  0. 12. 13.  5.  0.  0.]\n",
            " [ 0.  0.  0. 11. 16.  9.  0.  0.]\n",
            " [ 0.  0.  3. 15. 16.  6.  0.  0.]\n",
            " [ 0.  7. 15. 16. 16.  2.  0.  0.]\n",
            " [ 0.  0.  1. 16. 16.  3.  0.  0.]\n",
            " [ 0.  0.  1. 16. 16.  6.  0.  0.]\n",
            " [ 0.  0.  1. 16. 16.  6.  0.  0.]\n",
            " [ 0.  0.  0. 11. 16. 10.  0.  0.]]\n",
            "1\n"
          ],
          "name": "stdout"
        },
        {
          "output_type": "display_data",
          "data": {
            "image/png": "[encoded data removed]",
            "text/plain": [
              "<Figure size 432x288 with 1 Axes>"
            ]
          },
          "metadata": {
            "tags": [],
            "needs_background": "light"
          }
        }
      ]
    },
    {
      "cell_type": "markdown",
      "metadata": {
        "id": "n4x9FeKq2d4Q"
      },
      "source": [
        "<div dir='rtl'>\n",
        "در این قسمت داده‌ها را به نسبت ۹۰ درصد ۱۰ درصد به ترین و تست اختصاص می‌دهیم.\n",
        "</div>"
      ]
    },
    {
      "cell_type": "code",
      "metadata": {
        "colab": {
          "base_uri": "https://localhost:8080/"
        },
        "id": "hs6-dr9lTSvq",
        "outputId": "4561fbd8-90f7-45af-b5a2-e07199054a0b"
      },
      "source": [
        "def find_train_test(x, y):\n",
        "    x_train, x_test = x[:int(0.9 * x.shape[0])], x[int(0.9 * x.shape[0]):]\n",
        "    y_train, y_test = y[:int(0.9 * x.shape[0])], y[int(0.9 * x.shape[0]):]\n",
        "    return x_train, x_test, y_train, y_test\n",
        "\n",
        "x = digits.images\n",
        "y = digits.target\n",
        "x_train, x_test, y_train, y_test = find_train_test(x, y)\n",
        "print(\"train data count : \", len(x_train), \" test data count : \", len(x_test))"
      ],
      "execution_count": 3,
      "outputs": [
        {
          "output_type": "stream",
          "text": [
            "train data count :  1617  test data count :  180\n"
          ],
          "name": "stdout"
        }
      ]
    },
    {
      "cell_type": "markdown",
      "metadata": {
        "id": "TTwNmZQ42rMQ"
      },
      "source": [
        "<div dir='rtl'>\n",
        " حال چک می‌کنیم که از هر عدد حداقل ۱۵ داده داشته باشیم کافیست این تعداد را در داده تست چک کنیم. زیرا در داده تست تعداد دیتا کمتر است و ممکن است از هر عدد کمتر از ۱۵ تا موجود باشد.\n",
        "</div>"
      ]
    },
    {
      "cell_type": "code",
      "metadata": {
        "colab": {
          "base_uri": "https://localhost:8080/"
        },
        "id": "AqdaIZz4TSvq",
        "outputId": "c39b9a0e-8982-4c60-d2b2-657b4d79cdc1"
      },
      "source": [
        "unique, counts = np.unique(y_test, return_counts=True)\n",
        "dict(zip(unique, counts))"
      ],
      "execution_count": 4,
      "outputs": [
        {
          "output_type": "execute_result",
          "data": {
            "text/plain": [
              "{0: 16, 1: 19, 2: 17, 3: 18, 4: 20, 5: 18, 6: 18, 7: 19, 8: 17, 9: 18}"
            ]
          },
          "metadata": {
            "tags": []
          },
          "execution_count": 4
        }
      ]
    },
    {
      "cell_type": "markdown",
      "metadata": {
        "id": "BxgrOkuY3Wp5"
      },
      "source": [
        "<div dir='rtl'>\n",
        "در این قسمت نیز داده‌ها را نرمالایز کرده و عکس‌ها را از حالت ماتریسی ۸ در ۸ به یک بردار ۶۴تایی تبدیل می‌کنیم.\n",
        "</div>"
      ]
    },
    {
      "cell_type": "code",
      "metadata": {
        "id": "H9u7JIbBTSvq"
      },
      "source": [
        "def normalize_data(x):\n",
        "    for i in range(x.shape[1]):\n",
        "        norm = np.linalg.norm(x[:,i])\n",
        "        x_normed = x / norm\n",
        "    return x_normed\n",
        "\n",
        "x_train = normalize_data(x_train)\n",
        "x_test = normalize_data(x_test)"
      ],
      "execution_count": 5,
      "outputs": []
    },
    {
      "cell_type": "code",
      "metadata": {
        "id": "R7X4qIEATSvr"
      },
      "source": [
        "x_train_new = []\n",
        "for i in range(len(x_train)):\n",
        "    x_train_new.append(x_train[i].ravel())\n",
        "x_train_new = np.array(x_train_new)\n",
        "\n",
        "x_test_new = []\n",
        "for i in range(len(x_test)):\n",
        "    x_test_new.append(x_test[i].ravel())\n",
        "x_test_new = np.array(x_test_new)"
      ],
      "execution_count": 6,
      "outputs": []
    },
    {
      "cell_type": "code",
      "metadata": {
        "id": "esIlc23FTSvr"
      },
      "source": [
        "def linear_kernel(x1, x2):\n",
        "    return np.dot(x1, x2)\n",
        "\n",
        "def gaussian_kernel(x1, x2, a=0.5):\n",
        "    return np.exp(-1*np.linalg.norm(x1-x2)**2 / (2 * (a ** 2)))"
      ],
      "execution_count": 7,
      "outputs": []
    },
    {
      "cell_type": "markdown",
      "metadata": {
        "id": "KJnbF-4yTSvr"
      },
      "source": [
        "<div dir='rtl'>\n",
        "    برای به دست آوردن w و support vectorها باید از کتابخانه cvxopt استفاده کنیم. ابتدا معادله یک qp را نوشته و سپس نحوه حل آن با cvxopt را توضیح می‌دهیم.\n",
        "</div>"
      ]
    },
    {
      "cell_type": "markdown",
      "metadata": {
        "id": "EP0IIjTATSvs"
      },
      "source": [
        "\\begin{equation}\n",
        "min \\frac{1}{2}x^Tpx + q^Tx \\\\\n",
        "S.T \\; \\; gx \\le h \\\\\n",
        "\\; \\; \\; \\; \\; \\; \\; \\;  ax = b\n",
        "\\end{equation} "
      ]
    },
    {
      "cell_type": "markdown",
      "metadata": {
        "id": "wX4g7LO-TSvs"
      },
      "source": [
        "<div dir='rtl'>\n",
        "    حال برای نوشتن soft margin SVM به شکل qp خواهیم داشت:\n",
        "</div>"
      ]
    },
    {
      "cell_type": "markdown",
      "metadata": {
        "id": "bj_z4VAxTSvt"
      },
      "source": [
        "\\begin{equation}\n",
        "min \\frac{1}{2}\\alpha ^Tp\\alpha - 1^T\\alpha \\\\\n",
        "S.T \\; \\; -\\alpha_i \\le 0 \\\\\n",
        "\\; \\; \\; \\; \\; \\; \\; \\;  \\alpha_i \\le C\\\\\n",
        "\\; \\; \\; \\; \\; \\; \\; \\;  y^T \\alpha = 0\n",
        "\\end{equation} "
      ]
    },
    {
      "cell_type": "markdown",
      "metadata": {
        "id": "-n6sNFQLTSvt"
      },
      "source": [
        "<div dir='rtl'>\n",
        "    پس ماتریس‌های p , q, g, h, a و b به شکل زیر خواهند بود:\n",
        "    <br>\n",
        "    p = یک ماتریس NxN\n",
        "    <br>\n",
        "    q = یک بردار Nx1 که همه درایه‌های آن -۱ است.\n",
        "    <br>\n",
        "    a = بردار y با سایز Nx1\n",
        "    <br>\n",
        "    b = عدد صفر \n",
        "</div>"
      ]
    },
    {
      "cell_type": "markdown",
      "metadata": {
        "id": "sKycdXGqTSvt"
      },
      "source": [
        "\\begin{equation}\n",
        "g = \\begin{pmatrix}\n",
        "0 & -1\\\\\n",
        "-1 & 0\\\\\n",
        "0 & 1\\\\\n",
        "1 & 0\\\\\n",
        "\\end{pmatrix} \\\\\n",
        "h = \\begin{pmatrix}\n",
        "0\\\\\n",
        "0\\\\\n",
        "C\\\\\n",
        "C\\\\\n",
        "\\end{pmatrix}\n",
        "\\end{equation} "
      ]
    },
    {
      "cell_type": "code",
      "metadata": {
        "id": "hsELJt6LaNXG"
      },
      "source": [
        "class soft_margin_svm():\n",
        "    \n",
        "    def __init__(self, kernel=linear_kernel, C=None):\n",
        "        self.kernel = kernel\n",
        "        self.C = C\n",
        "        self.w = []\n",
        "        self.alphas = []\n",
        "        self.b = []\n",
        "    \n",
        "    def fit(self, X, y):\n",
        "        n = X.shape[0]\n",
        "        K = np.zeros((n, n))\n",
        "        for i in range(n):\n",
        "            for j in range(n):\n",
        "                K[i,j] = self.kernel(X[i], X[j])\n",
        "        for i in range(10):\n",
        "            y_new = []\n",
        "            for y_i in y:\n",
        "                if y_i == i:\n",
        "                    y_new.append(1)\n",
        "                else:\n",
        "                    y_new.append(-1)\n",
        "            y_new = np.array(y_new)\n",
        "            y_new = y_new.reshape(-1,1) * 1.0 \n",
        "            p = cvxopt.matrix(np.outer(y_new,y_new) * K)\n",
        "            q = cvxopt.matrix(-1 * np.ones((n, 1)))\n",
        "            g = cvxopt.matrix(np.vstack((-1*np.eye(n),np.eye(n))))\n",
        "            h = cvxopt.matrix(np.hstack((np.zeros(n), np.ones(n) * self.C[i])))\n",
        "            a = cvxopt.matrix(y_new.reshape(1, -1))\n",
        "            b = cvxopt.matrix(np.zeros(1))\n",
        "\n",
        "            sol = cvxopt.solvers.qp(p, q, g, h, a, b)\n",
        "            self.alphas.append(np.array(sol['x']))\n",
        "            self.w.append(((y_new * self.alphas[-1]).T @ X).flatten())\n",
        "            S = (self.alphas[-1] > 1e-4).flatten() & (self.alphas[-1] < c).flatten()\n",
        "            self.b.append((y_new[S].flatten() - np.dot(X[S], self.w[-1]).flatten())[0])\n",
        "            \n",
        "    def predict(self, X):\n",
        "        y_pred = []\n",
        "        for i in range(len(self.w)):\n",
        "            y_pred.append(np.dot(X, self.w[i]) + self.b[i])\n",
        "        y_pred = np.array(y_pred)\n",
        "        return y_pred.argmax(axis = 0)\n",
        "    \n",
        "    def cv_fit(self, X, y, c):\n",
        "        m = X.shape[0]\n",
        "        K = np.zeros((m, m))\n",
        "        for i in range(m):\n",
        "            for j in range(m):\n",
        "                K[i,j] = self.kernel(X[i], X[j])\n",
        "        y_new = np.array(y)\n",
        "        y_new = y_new.reshape(-1,1) * 1.0\n",
        "        p = cvxopt.matrix(np.outer(y_new,y_new) * K)\n",
        "        q = cvxopt.matrix(-1 * np.ones((m, 1)))\n",
        "        g = cvxopt.matrix(np.vstack((-1*np.eye(m),np.eye(m))))\n",
        "        h = cvxopt.matrix(np.hstack((np.zeros(m), np.ones(m) * c)))\n",
        "        a = cvxopt.matrix(y_new.reshape(1, -1))\n",
        "        b = cvxopt.matrix(np.zeros(1))\n",
        "\n",
        "        sol = cvxopt.solvers.qp(p, q, g, h, a, b)\n",
        "        self.alphas = np.array(sol['x'])\n",
        "        self.w = ((y_new * self.alphas).T @ X).flatten()\n",
        "        S = (self.alphas > 1e-4).flatten() & (self.alphas < c).flatten()\n",
        "        self.b = (y_new[S].flatten() - np.dot(X[S], self.w).flatten())[0]\n",
        "    \n",
        "    def cv_predict(self, X):\n",
        "        y_pred = []\n",
        "        y_pred = np.dot(X, self.w) + self.b\n",
        "        y_pred = np.array(y_pred)\n",
        "        return np.sign(y_pred)"
      ],
      "execution_count": 23,
      "outputs": []
    },
    {
      "cell_type": "code",
      "metadata": {
        "colab": {
          "base_uri": "https://localhost:8080/"
        },
        "id": "8TjseKtkTSvt",
        "outputId": "cbe8a06c-5b2c-4225-889d-a8ca49e18de8"
      },
      "source": [
        "kfold = KFold(n_splits=4, shuffle=False)\n",
        "cs = []\n",
        "suggested_c = [0.1, 1, 10]\n",
        "for i in range(10):\n",
        "    corrects = []\n",
        "    y_train_new = []\n",
        "    for y_i in y_train:\n",
        "        if y_i == i:\n",
        "            y_train_new.append(1)\n",
        "        else:\n",
        "            y_train_new.append(-1)\n",
        "    y_train_new = np.array(y_train_new)\n",
        "    for c in suggested_c:\n",
        "        mean_correct = 0\n",
        "        for train_idx, validation_idx in kfold.split(x_train_new):\n",
        "            x_train_cv, x_validation_cv = x_train_new[train_idx], x_train_new[validation_idx]\n",
        "            y_train_cv, y_validation_cv = y_train_new[train_idx], y_train_new[validation_idx]\n",
        "            svm = soft_margin_svm(kernel=linear_kernel, C=c)\n",
        "            svm.cv_fit(x_train_cv, y_train_cv, c)\n",
        "            y_pred = svm.cv_predict(x_validation_cv)\n",
        "            mean_correct += np.sum(y_pred == y_validation_cv)\n",
        "        corrects.append(mean_correct/4)\n",
        "    print(corrects)\n",
        "    cs.append(suggested_c[np.array(corrects).argmax()])\n",
        "print(\"linear kernel : \\nc = \", cs)"
      ],
      "execution_count": 24,
      "outputs": [
        {
          "output_type": "stream",
          "text": [
            "[40.5, 40.5, 80.25]\n",
            "[40.75, 40.75, 40.75]\n",
            "[40.0, 40.0, 40.0]\n",
            "[121.5, 121.5, 121.5]\n",
            "[202.0, 202.0, 211.75]\n",
            "[41.0, 41.0, 121.5]\n",
            "[201.25, 201.25, 205.25]\n",
            "[40.0, 40.0, 41.25]\n",
            "[283.75, 283.75, 283.75]\n",
            "[282.0, 282.0, 282.0]\n",
            "linear kernel : \n",
            "c =  [10, 0.1, 0.1, 0.1, 10, 10, 10, 10, 0.1, 0.1]\n"
          ],
          "name": "stdout"
        }
      ]
    },
    {
      "cell_type": "code",
      "metadata": {
        "colab": {
          "base_uri": "https://localhost:8080/"
        },
        "id": "aH52lfSLTSvu",
        "outputId": "605d4c3e-a36b-43b0-a0bd-4ae7ca1fc8f4"
      },
      "source": [
        "svm = soft_margin_svm(kernel=linear_kernel, C=cs)\n",
        "svm.fit(x_train_new, y_train)\n",
        "y_predict = svm.predict(x_test_new)\n",
        "correct = np.sum(y_predict == y_test)\n",
        "print('{0} out of {1} predictions correct'.format(correct, len(y_predict)))\n",
        "print('Accuracy test = {0} %'.format(correct * 100 / len(y_predict)))\n",
        "y_predict_train = svm.predict(x_train_new)\n",
        "correct = np.sum(y_predict_train == y_train)\n",
        "print('{0} out of {1} predictions correct'.format(correct, len(y_predict_train)))\n",
        "print('Accuracy train = {0} %'.format(correct * 100 / len(y_predict_train)))"
      ],
      "execution_count": 25,
      "outputs": [
        {
          "output_type": "stream",
          "text": [
            "119 out of 180 predictions correct\n",
            "Accuracy test = 66.11111111111111 %\n",
            "741 out of 1617 predictions correct\n",
            "Accuracy train = 45.82560296846011 %\n"
          ],
          "name": "stdout"
        }
      ]
    },
    {
      "cell_type": "markdown",
      "metadata": {
        "id": "VrUcJbvSty6C"
      },
      "source": [
        "<div dir='rtl'>\n",
        "پارامتر c را از بین مقادیر ۰.۱ و ۱ و ۱۰ با استفاده از 4fold cross valiation پیدا کردم. سپس با استفاده از پارامتر‌های به دست آمده و کرنل خطی مدل را ترین و سپس تست کردم که به دقت ۴۵ درصد روی داده ترین و ۶۶ درصد روی داده تست رسیده است.\n",
        "</div>"
      ]
    },
    {
      "cell_type": "code",
      "metadata": {
        "colab": {
          "base_uri": "https://localhost:8080/"
        },
        "id": "1FZt4pbNTSvu",
        "outputId": "94f674eb-e019-4669-fc94-a5ef37c31575"
      },
      "source": [
        "kfold = KFold(n_splits=4, shuffle=False)\n",
        "cs_2 = []\n",
        "suggested_c = [0.1, 1, 10]\n",
        "for i in range(10):\n",
        "    corrects = []\n",
        "    y_train_new = []\n",
        "    for y_i in y_train:\n",
        "        if y_i == i:\n",
        "            y_train_new.append(1)\n",
        "        else:\n",
        "            y_train_new.append(-1)\n",
        "    y_train_new = np.array(y_train_new)\n",
        "    for c in suggested_c:\n",
        "        mean_correct = 0\n",
        "        for train_idx, validation_idx in kfold.split(x_train_new):\n",
        "            x_train_cv, x_validation_cv = x_train_new[train_idx], x_train_new[validation_idx]\n",
        "            y_train_cv, y_validation_cv = y_train_new[train_idx], y_train_new[validation_idx]\n",
        "            svm = soft_margin_svm(kernel=gaussian_kernel, C=c)\n",
        "            svm.cv_fit(x_train_cv, y_train_cv, c)\n",
        "            y_pred = svm.cv_predict(x_validation_cv)\n",
        "            mean_correct += np.sum(y_pred == y_validation_cv)\n",
        "        corrects.append(mean_correct/4)\n",
        "    print(corrects)\n",
        "    cs_2.append(suggested_c[np.array(corrects).argmax()])\n",
        "print(\"Gaussian kernel : \\nc = \", cs_2)"
      ],
      "execution_count": 26,
      "outputs": [
        {
          "output_type": "stream",
          "text": [
            "[40.5, 40.5, 40.5]\n",
            "[40.75, 40.75, 40.75]\n",
            "[40.0, 40.0, 40.0]\n",
            "[121.5, 121.5, 121.5]\n",
            "[202.0, 202.0, 121.5]\n",
            "[41.0, 41.0, 121.5]\n",
            "[201.25, 201.25, 120.25]\n",
            "[40.0, 40.0, 40.0]\n",
            "[283.75, 283.75, 283.75]\n",
            "[282.0, 282.0, 282.0]\n",
            "Gaussian kernel : \n",
            "c =  [0.1, 0.1, 0.1, 0.1, 0.1, 10, 0.1, 0.1, 0.1, 0.1]\n"
          ],
          "name": "stdout"
        }
      ]
    },
    {
      "cell_type": "code",
      "metadata": {
        "colab": {
          "base_uri": "https://localhost:8080/"
        },
        "id": "7u4_x2MFTSvv",
        "outputId": "78bea50b-1c55-4fb2-8010-2668171486d2"
      },
      "source": [
        "svm = soft_margin_svm(kernel=gaussian_kernel, C=cs_2)\n",
        "svm.fit(x_train_new, y_train)\n",
        "y_predict = svm.predict(x_test_new)\n",
        "correct = np.sum(y_predict == y_test)\n",
        "print('{0} out of {1} predictions correct'.format(correct, len(y_predict)))\n",
        "print('Accuracy = {0} %'.format(correct * 100 / len(y_predict)))\n",
        "y_predict_train = svm.predict(x_train_new)\n",
        "correct = np.sum(y_predict_train == y_train)\n",
        "print('{0} out of {1} predictions correct'.format(correct, len(y_predict_train)))\n",
        "print('Accuracy = {0} %'.format(correct * 100 / len(y_predict_train)))"
      ],
      "execution_count": 27,
      "outputs": [
        {
          "output_type": "stream",
          "text": [
            "107 out of 180 predictions correct\n",
            "Accuracy = 59.44444444444444 %\n",
            "893 out of 1617 predictions correct\n",
            "Accuracy = 55.225726654298086 %\n"
          ],
          "name": "stdout"
        }
      ]
    },
    {
      "cell_type": "markdown",
      "metadata": {
        "id": "X1xSatQA1QlR"
      },
      "source": [
        "<div dir='rtl'>\n",
        "برای این قسمت تمام مراحل را ماننده قبل طی کردم و تنها کرنل مورد استفاده را کرنل گاوسی قرار دادم. همانطور که می‌بینیم نتیجه روی داده تست کاهش و روی داده ترین افزایش داشته است.\n",
        "به طور کلی تعداد داده‌هایی که با کرنل گاوسی درست پیش‌بینی شده اند ۱۰۰۰ تا و نعداد داده‌هایی که با کرنل خطی درست پیش بینی شده اند ۸۶۰ است. پس می‌توان گفت برای داده‌های ارقام SVM با کرنل گاوسی نتیجه بهتری داشته است.\n",
        "</div>"
      ]
    }
  ]
}
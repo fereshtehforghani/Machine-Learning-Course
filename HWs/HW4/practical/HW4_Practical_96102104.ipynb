{
 "cells": [
  {
   "cell_type": "code",
   "execution_count": 1,
   "metadata": {},
   "outputs": [],
   "source": [
    "import pandas as pd\n",
    "import numpy as np\n",
    "import matplotlib.pyplot as plt"
   ]
  },
  {
   "cell_type": "markdown",
   "metadata": {},
   "source": [
    "<div dir='rtl'>\n",
    "    <h1>گزارش تمرین عملی دوم</h1>\n",
    "    <h2>مشاهده و تمیز کردن داده‌ها</h2>\n",
    "    ابتدا داده‌ها را لود می‌کنیم و با مشاهده نوع داده‌های هر ستون می‌بینیم که کدام از آن‌ها را باید تبدیل به one hot vector کنیم.\n",
    "</div>"
   ]
  },
  {
   "cell_type": "code",
   "execution_count": 2,
   "metadata": {},
   "outputs": [
    {
     "data": {
      "text/plain": [
       "Id                    int64\n",
       "Model                object\n",
       "Price                 int64\n",
       "Age_08_04             int64\n",
       "Mfg_Month             int64\n",
       "Mfg_Year              int64\n",
       "KM                    int64\n",
       "Fuel_Type            object\n",
       "HP                    int64\n",
       "Met_Color             int64\n",
       "Color                object\n",
       "Automatic             int64\n",
       "CC                    int64\n",
       "Doors                 int64\n",
       "Cylinders             int64\n",
       "Gears                 int64\n",
       "Quarterly_Tax         int64\n",
       "Weight                int64\n",
       "Mfr_Guarantee         int64\n",
       "BOVAG_Guarantee       int64\n",
       "Guarantee_Period      int64\n",
       "ABS                   int64\n",
       "Airbag_1              int64\n",
       "Airbag_2              int64\n",
       "Airco                 int64\n",
       "Automatic_airco       int64\n",
       "Boardcomputer         int64\n",
       "CD_Player             int64\n",
       "Central_Lock          int64\n",
       "Powered_Windows       int64\n",
       "Power_Steering        int64\n",
       "Radio                 int64\n",
       "Mistlamps             int64\n",
       "Sport_Model           int64\n",
       "Backseat_Divider      int64\n",
       "Metallic_Rim          int64\n",
       "Radio_cassette        int64\n",
       "Parking_Assistant     int64\n",
       "Tow_Bar               int64\n",
       "dtype: object"
      ]
     },
     "execution_count": 2,
     "metadata": {},
     "output_type": "execute_result"
    }
   ],
   "source": [
    "df = pd.read_excel(r'ToyotaCorolla.xls', sheet_name='data')\n",
    "df.dtypes"
   ]
  },
  {
   "cell_type": "markdown",
   "metadata": {},
   "source": [
    "<div dir=\"rtl\">\n",
    "چون در سوال گفته شده که از ستون‌های model و id استفاده نکنیم پس این ستون ‌ها را حذف می‌کنیم. سپس با توجه به نوع ستون‌های باقی‌مانده می‌بینیم که با ستون‌های Fuel_type و Color را تبدیل به one hot vector کنیم.\n",
    "</div>"
   ]
  },
  {
   "cell_type": "code",
   "execution_count": 3,
   "metadata": {},
   "outputs": [],
   "source": [
    "df = df.drop(['Id', 'Model'], axis=1)"
   ]
  },
  {
   "cell_type": "code",
   "execution_count": 4,
   "metadata": {},
   "outputs": [
    {
     "data": {
      "text/plain": [
       "Index(['Price', 'Age_08_04', 'Mfg_Month', 'Mfg_Year', 'KM', 'HP', 'Met_Color',\n",
       "       'Automatic', 'CC', 'Doors', 'Cylinders', 'Gears', 'Quarterly_Tax',\n",
       "       'Weight', 'Mfr_Guarantee', 'BOVAG_Guarantee', 'Guarantee_Period', 'ABS',\n",
       "       'Airbag_1', 'Airbag_2', 'Airco', 'Automatic_airco', 'Boardcomputer',\n",
       "       'CD_Player', 'Central_Lock', 'Powered_Windows', 'Power_Steering',\n",
       "       'Radio', 'Mistlamps', 'Sport_Model', 'Backseat_Divider', 'Metallic_Rim',\n",
       "       'Radio_cassette', 'Parking_Assistant', 'Tow_Bar', 'CNG', 'Diesel',\n",
       "       'Petrol', 'Beige', 'Black', 'Blue', 'Green', 'Grey', 'Red', 'Silver',\n",
       "       'Violet', 'White', 'Yellow'],\n",
       "      dtype='object')"
      ]
     },
     "execution_count": 4,
     "metadata": {},
     "output_type": "execute_result"
    }
   ],
   "source": [
    "one_hot_fuel = pd.get_dummies(df['Fuel_Type'])\n",
    "df = df.drop('Fuel_Type',axis = 1)\n",
    "df = df.join(one_hot_fuel)\n",
    "\n",
    "one_hot_color = pd.get_dummies(df['Color'])\n",
    "df = df.drop('Color',axis = 1)\n",
    "df = df.join(one_hot_color)\n",
    "\n",
    "df.columns"
   ]
  },
  {
   "cell_type": "markdown",
   "metadata": {},
   "source": [
    "<div dir='rtl'>\n",
    "    <h2>نرمالایز و جدا کردن train و test و validation</h2>\n",
    "    در این قسمت داده‌ّای هر ستون را normalize می‌کنیم. به این صورت که هر مقدار آن ستون را بر نرم آن ستون تقسیم می‌کنیم. <br>\n",
    "    حال برای جدا کردن train و test و validation از تابع find_train_test که در آن با استفاده از sample داده‌ها را جدا می‌کند استفاده می‌کنیم.\n",
    "</div>"
   ]
  },
  {
   "cell_type": "code",
   "execution_count": 5,
   "metadata": {},
   "outputs": [
    {
     "name": "stdout",
     "output_type": "stream",
     "text": [
      "Train data:\n",
      " (1005, 48)\n",
      "Validation data: \n",
      " (216, 48)\n",
      "Test data:\n",
      " (215, 48)\n"
     ]
    }
   ],
   "source": [
    "def normalize_columns(df):\n",
    "    result = df.copy()\n",
    "    for f in df.columns:\n",
    "        result[f] = df[f] / np.linalg.norm(df[f])\n",
    "    return result\n",
    "\n",
    "def find_train_test(df):\n",
    "    train = df.sample(frac=0.7, random_state=0)   \n",
    "    rest = df.drop(train.index)\n",
    "    validation = rest.sample(frac=0.5, random_state=0)\n",
    "    test = rest.drop(validation.index)\n",
    "    return train, test, validation\n",
    "\n",
    "\n",
    "df = normalize_columns(df)\n",
    "train, test, validation = find_train_test(df)\n",
    "print(\"Train data:\\n\", train.shape)\n",
    "print(\"Validation data: \\n\",validation.shape)\n",
    "print(\"Test data:\\n\", test.shape)"
   ]
  },
  {
   "cell_type": "markdown",
   "metadata": {},
   "source": [
    "<div dir='rtl'>\n",
    "    <h2>پیاده سازی SGD</h2>\n",
    "    در این قسمت SGD را که از رابطه زیر پیروی می‌کند پیاده‌سازی می‌کنیم.\n",
    "</div>"
   ]
  },
  {
   "cell_type": "markdown",
   "metadata": {},
   "source": [
    "\\begin{equation}\n",
    "w_{i+1} = w_i - \\eta \\frac{1}{|B|}\\sum_{x_j\\in B} -2x_j(y_j - wx_j)\n",
    "\\end{equation}"
   ]
  },
  {
   "cell_type": "code",
   "execution_count": 6,
   "metadata": {},
   "outputs": [
    {
     "name": "stdout",
     "output_type": "stream",
     "text": [
      "W_sgd =  [[0.02770547 0.03238358 0.03908032 0.02382104 0.04063103 0.03247081\n",
      "  0.00968063 0.03910233 0.03938862 0.03905706 0.03908341 0.0372558\n",
      "  0.03993982 0.02780663 0.03626975 0.03542612 0.0381868  0.03833436\n",
      "  0.03504753 0.03459312 0.02632384 0.03766432 0.03185397 0.0338896\n",
      "  0.03368843 0.03844836 0.01236318 0.02058462 0.02357915 0.03327997\n",
      "  0.01879021 0.01244355 0.0030776  0.01236798 0.00137209 0.01421403\n",
      "  0.03649309 0.00056487 0.01490972 0.01787323 0.01192288 0.02418343\n",
      "  0.01347441 0.0118615  0.00138709 0.00247534 0.0021339 ]]\n"
     ]
    },
    {
     "data": {
      "image/png": "[encoded data removed]",
      "text/plain": [
       "<Figure size 432x288 with 1 Axes>"
      ]
     },
     "metadata": {
      "needs_background": "light"
     },
     "output_type": "display_data"
    },
    {
     "data": {
      "image/png": "[encoded data removed]",
      "text/plain": [
       "<Figure size 432x288 with 1 Axes>"
      ]
     },
     "metadata": {
      "needs_background": "light"
     },
     "output_type": "display_data"
    },
    {
     "name": "stdout",
     "output_type": "stream",
     "text": [
      "MSE test set with simple SGD: 5.1040340290799634e-05\n",
      "MSE validation set with simple SGD: 4.548692753071634e-05\n"
     ]
    }
   ],
   "source": [
    "def mean_square_error(y, y_predict):\n",
    "    return np.square(np.subtract(y, y_predict)).mean() \n",
    "\n",
    "\n",
    "def SGD(data, learning_rate, iterations, k=10):\n",
    "    w = np.zeros(shape=(1, data.shape[1]-1))\n",
    "    mse_validation = []\n",
    "    mse_test = []\n",
    "    x_validation = validation.drop('Price',axis=1)\n",
    "    x_test = test.drop('Price',axis=1)\n",
    "    \n",
    "    for i in range(iterations):\n",
    "        sample = data.sample(k)\n",
    "        y = np.array(sample['Price'])\n",
    "        x = np.array(sample.drop('Price',axis=1))\n",
    "        w_grad = np.zeros(shape=(1,data.shape[1]-1))\n",
    "        \n",
    "        for j in range(k):\n",
    "            w_grad += (-2) * x[j] * (y[j] - (np.dot(w, x[j])))\n",
    "        w_grad = w_grad/k \n",
    "        w = w - learning_rate * w_grad\n",
    "        mse_validation.append(mean_square_error(validation['Price'].values, np.dot(w, x_validation.values.T)))\n",
    "        mse_test.append(mean_square_error(test['Price'].values, np.dot(w, x_test.values.T)))\n",
    "    return w, mse_test, mse_validation\n",
    "\n",
    "iterations = 1000\n",
    "w_sgd, mse_test, mse_validation = SGD(train, learning_rate = 0.1, iterations = iterations)\n",
    "print(\"W_sgd = \", w_sgd)\n",
    "plt.plot([j for j in range(iterations)], mse_validation)\n",
    "plt.title(\"Vlidation set MSE per iter\")\n",
    "plt.xlabel(\"iter\")\n",
    "plt.ylabel(\"mse\")\n",
    "plt.show()\n",
    "    \n",
    "plt.plot([j for j in range(iterations)], mse_test)\n",
    "plt.title(\"Test set MSE per iter\")\n",
    "plt.xlabel(\"iter\")\n",
    "plt.ylabel(\"mse\")\n",
    "plt.show()\n",
    "\n",
    "print(\"MSE test set with simple SGD:\", mse_test[-1])\n",
    "print(\"MSE validation set with simple SGD:\", mse_validation[-1])"
   ]
  },
  {
   "cell_type": "markdown",
   "metadata": {},
   "source": [
    "<div dir=\"rtl\">\n",
    "می‌بینیم که با learning rate = 0.1 و ۱۰۰۰ iteration خطا روی داده‌های test و validation به اردر e^-5 رسیده است. \n",
    "</div>"
   ]
  },
  {
   "cell_type": "markdown",
   "metadata": {},
   "source": [
    "<div dir='rtl'>\n",
    "    <h2>پیاده‌سازی ridge regression</h2>\n",
    "    برای پیاده سازی ridge regressor دو راه وجود دارد: iterative و close form.  در این قسمت هر دو پیاده سازی وجود دارد. کد در این حالت به دلیل دقیق‌تر بودن close form با فرم بسته اجرا می‌شود. در صورتی که بخواهیم با فرم ایتریتیو اجرا کنیم کافیست تابع iterative_ridge_regressor را فراخوانی کنیم. \n",
    "</div>"
   ]
  },
  {
   "cell_type": "code",
   "execution_count": 8,
   "metadata": {},
   "outputs": [
    {
     "name": "stdout",
     "output_type": "stream",
     "text": [
      "l2 =  1\n",
      "W_ridge =  [ 0.00897126  0.02653375  0.04032696 -0.00187315  0.04532467  0.02715673\n",
      "  0.01159725  0.04002645  0.04306534  0.04025302  0.04025917  0.04158365\n",
      "  0.04325319  0.02958445  0.03362758  0.04787609  0.03887025  0.03671941\n",
      "  0.03227292  0.03618196  0.05533892  0.06087428  0.04407342  0.03229275\n",
      "  0.03312926  0.03749082  0.01015703  0.01038604  0.02657065  0.02637963\n",
      "  0.01321171  0.01058896  0.00304056 -0.00163127 -0.00235339  0.01513684\n",
      "  0.03787673 -0.00065342  0.01281181  0.01751535  0.00975123  0.03042725\n",
      "  0.01212521  0.0152641   0.00292594 -0.00012739  0.0036673 ]\n",
      "MSE test set with ridge regression 3.8738615048045684e-05\n",
      "MSE validation set with ridge regression 3.3322774613354915e-05\n",
      "-------------------------------\n",
      "l2 =  0\n",
      "W_ridge =  [ 5.42598059e+09  5.96670043e+08  2.20841779e+12  7.50396304e-01\n",
      " -1.49761919e+01  1.04589694e-01 -6.47539043e-01 -2.53196847e-01\n",
      " -5.29662390e+00 -2.47420947e+11 -7.39504623e+00 -6.93427754e-01\n",
      "  1.12447464e+02  1.72770512e-01  1.35546493e+00  2.99480935e-01\n",
      "  4.86440290e-01  1.01066374e+00  8.60088023e-01  8.15430279e-02\n",
      " -6.02585246e-01  1.50318430e-02 -1.36718065e-01  1.22781304e-01\n",
      " -3.91586519e-01  3.27927121e-01  1.11530933e-01 -1.45621238e-01\n",
      " -8.72094766e-01 -9.57607050e-01 -2.44985580e-02 -1.52602776e-01\n",
      "  1.72482994e-02 -8.66676019e-03 -2.13981204e+11 -6.46125700e+11\n",
      " -1.84512037e+12 -6.86035156e-02  3.69140625e-01 -1.34765625e-01\n",
      " -1.25000000e-01  6.05468750e-02 -2.14843750e-02 -5.85937500e-03\n",
      " -5.12695312e-03 -1.45507812e-01 -5.85937500e-03]\n",
      "MSE test set with ridge regression 0.0030744457461917532\n",
      "MSE validation set with ridge regression 0.012654551139615066\n",
      "-------------------------------\n"
     ]
    }
   ],
   "source": [
    "def iterative_ridge_regressor(x, y, l2, learning_rate, iterations):\n",
    "    w = np.zeros(shape=(1, x.shape[1]))\n",
    "    for i in range(iterations):\n",
    "        w_grad = np.zeros(shape=(1, x.shape[1]))\n",
    "        for j in range(x.shape[0]):\n",
    "            w_grad += 2 * (l2 * w - (x[j] * (y[j] - (np.dot(w, x[j])))))\n",
    "        w_grad = w_grad / x.shape[0]\n",
    "        w = w - learning_rate * w_grad\n",
    "    return w\n",
    "\n",
    "def find_optimal_w(X, y, l2):\n",
    "    a = np.dot(X.T, X)\n",
    "    b = np.dot(X.T, y)\n",
    "    w = np.dot(np.linalg.inv(np.add(a, l2 * np.identity(X.shape[1]))), b)\n",
    "    return w\n",
    "\n",
    "\n",
    "def run_ridge(l2):\n",
    "    y = np.array(train['Price'])\n",
    "    x = np.array(train.drop('Price',axis=1))\n",
    "    w_ridge = find_optimal_w(x, y, l2)\n",
    "#     w_ridge = iterative_ridge_regressor(x, y, l2, 0.1, 1000)\n",
    "    print(\"l2 = \", l2)\n",
    "    print(\"W_ridge = \", w_ridge)\n",
    "    print(\"MSE test set with ridge regression\", \n",
    "          mean_square_error(test['Price'].values, np.dot(w_ridge, test.drop('Price',axis=1).T)))\n",
    "    print(\"MSE validation set with ridge regression\",\n",
    "          mean_square_error(validation['Price'].values, np.dot(w_ridge, validation.drop('Price',axis=1).T)))\n",
    "    print(\"-------------------------------\")\n",
    "run_ridge(l2 = 1)\n",
    "run_ridge(l2 = 0)"
   ]
  },
  {
   "cell_type": "markdown",
   "metadata": {},
   "source": [
    "<div dir=\"rtl\">\n",
    "نتایج نشان می‌دهند که با قرار دادن l2=1 اردر خطا روی داده‌ی test و validation همان e^-5 که اردر خطای SGD است می‌شود. در حالی که اگر l2 را برابر با صفر بگذاریم یعنی در واقع regularization term را حذف کرده و همان sum of squares را به عنوان loss function داریم که می‌خواهیم minimize کنیم. نتایج به دست آمده با قرار دادن l2 برابر با صفر نشان می‌دهد که خطا روی داده test و validation بیشتر از حالتی است که l2 برابر با ۱ بوده است.\n",
    "   <br>\n",
    "    مزایای ridge regression:\n",
    "    <li> خطای کمتری نسبت به simple regression دارد.</li>\n",
    "    <li>با کنترل کردن اندازه w ها از بزرگ شدن آن‌ها و overfitting جلوگیری می‌کند.</li>\n",
    "    <li> در صورتی که feature ها correlation زیادی با هم داشته باشند با توجه به فرم بسته با اضافه کردن مقدار لاندا به درایه‌های قطری ماتریس X^TX دترمینان آن را افزایش داده و به اصطلاح آن را وارن پذیر تر می‌کند.</li>\n",
    "</div>"
   ]
  },
  {
   "cell_type": "markdown",
   "metadata": {},
   "source": [
    "<div dir='rtl'>\n",
    "    در این قسمت برای پیاده سازی SGD از loss function زیر استفاده شده است.\n",
    "</div>"
   ]
  },
  {
   "cell_type": "markdown",
   "metadata": {},
   "source": [
    "\\begin{equation}\n",
    "loss = \\| Y- Xw \\| _1\n",
    "\\end{equation}"
   ]
  },
  {
   "cell_type": "markdown",
   "metadata": {},
   "source": [
    "<div dir='rtl'>\n",
    "    برای این loss function فرمول پیاده‌سازی SGD به شکل زیر خواهد شد. این فرمول برای پیاده‌سازی تابع SGD_2 استفاده شده است.\n",
    "</div>"
   ]
  },
  {
   "cell_type": "markdown",
   "metadata": {},
   "source": [
    "\\begin{equation}\n",
    "w_{i+1} = w_i - \\eta \\frac{1}{|B|}\\sum_{x_j\\in B} -x_j \\times sign(y_j - wx_j)\n",
    "\\end{equation}"
   ]
  },
  {
   "cell_type": "code",
   "execution_count": 9,
   "metadata": {},
   "outputs": [
    {
     "name": "stdout",
     "output_type": "stream",
     "text": [
      "W_sgd_2 [[-0.12880307 -0.01514198  0.08286519 -0.14984515  0.10192591 -0.00321246\n",
      "   0.00559017  0.06071643  0.08793503  0.08233365  0.08918756  0.09763238\n",
      "   0.10051362  0.02226922  0.03569353  0.08074489  0.02516385  0.02410522\n",
      "   0.00869079  0.03479096  0.09        0.07730845  0.0310383   0.01974933\n",
      "   0.01584075  0.04803845  0.00069007 -0.03175533  0.01974901  0.00721662\n",
      "   0.01166424  0.00415029 -0.015      -0.01702129  0.00242536  0.03212877\n",
      "   0.07622471  0.          0.03545516  0.03804405  0.020226    0.04553484\n",
      "   0.03478609  0.02444465  0.005       0.00718421  0.        ]]\n"
     ]
    },
    {
     "data": {
      "image/png": "[encoded data removed]",
      "text/plain": [
       "<Figure size 432x288 with 1 Axes>"
      ]
     },
     "metadata": {
      "needs_background": "light"
     },
     "output_type": "display_data"
    },
    {
     "data": {
      "image/png": "[encoded data removed]",
      "text/plain": [
       "<Figure size 432x288 with 1 Axes>"
      ]
     },
     "metadata": {
      "needs_background": "light"
     },
     "output_type": "display_data"
    },
    {
     "name": "stdout",
     "output_type": "stream",
     "text": [
      "MSE test set : 1.2465578088465931e-05\n",
      "MSE validation: 1.1937265118993964e-05\n"
     ]
    }
   ],
   "source": [
    "def SGD_2(data, learning_rate, iterations, k=10):\n",
    "    w = np.zeros(shape=(1, data.shape[1]-1))\n",
    "    mse_validation = []\n",
    "    mse_test = []\n",
    "    x_validation = validation.drop('Price',axis=1)\n",
    "    x_test = test.drop('Price',axis=1)\n",
    "    \n",
    "    for i in range(iterations):\n",
    "        sample = data.sample(k)\n",
    "        y = np.array(sample['Price'])\n",
    "        x = np.array(sample.drop('Price',axis=1))\n",
    "        w_grad = np.zeros(shape=(1,data.shape[1]-1))\n",
    "        \n",
    "        for j in range(k):\n",
    "            w_grad -= x[j] * np.sign(y[j] - (np.dot(w, x[j])))\n",
    "        w_grad = w_grad/k \n",
    "        w = w - learning_rate * w_grad\n",
    "        mse_validation.append(mean_square_error(validation['Price'].values, np.dot(w, x_validation.values.T)))\n",
    "        mse_test.append(mean_square_error(test['Price'].values, np.dot(w, x_test.values.T)))\n",
    "    return w, mse_test, mse_validation\n",
    "\n",
    "iterations = 1000\n",
    "w_sgd_2, mse_test_2, mse_validation_2 = SGD_2(train, learning_rate = 0.1, iterations = iterations)\n",
    "print(\"W_sgd_2\", w_sgd_2)\n",
    "plt.plot([j for j in range(iterations)], mse_validation_2)\n",
    "plt.title(\"Vlidation set MSE per iter\")\n",
    "plt.xlabel(\"iter\")\n",
    "plt.ylabel(\"mse\")\n",
    "plt.show()\n",
    "    \n",
    "plt.plot([j for j in range(iterations)], mse_test_2)\n",
    "plt.title(\"Test set MSE per iter\")\n",
    "plt.xlabel(\"iter\")\n",
    "plt.ylabel(\"mse\")\n",
    "plt.show()\n",
    "\n",
    "print(\"MSE test set :\", mse_test_2[-1])\n",
    "print(\"MSE validation:\", mse_validation_2[-1])"
   ]
  },
  {
   "cell_type": "markdown",
   "metadata": {},
   "source": [
    "<div dir='rtl'>\n",
    "    نتیجه به دست آمده از قسمت اول و سوم نشان می‌دهد که اردر خطای هر دو loss function یکسان است ولی مقدار خطای روش سوم کمتر است. زیرا w به دست آمده از این روش به w_optimal نزدیک تر است. پس می‌توان گفت برای این مجموعه داده استفاده از loss function قسمت سوم بهتر از loss function قسمت اول است.\n",
    "</div>"
   ]
  },
  {
   "cell_type": "code",
   "execution_count": null,
   "metadata": {},
   "outputs": [],
   "source": []
  }
 ],
 "metadata": {
  "kernelspec": {
   "display_name": "Python 3",
   "language": "python",
   "name": "python3"
  },
  "language_info": {
   "codemirror_mode": {
    "name": "ipython",
    "version": 3
   },
   "file_extension": ".py",
   "mimetype": "text/x-python",
   "name": "python",
   "nbconvert_exporter": "python",
   "pygments_lexer": "ipython3",
   "version": "3.8.4rc1"
  }
 },
 "nbformat": 4,
 "nbformat_minor": 4
}
